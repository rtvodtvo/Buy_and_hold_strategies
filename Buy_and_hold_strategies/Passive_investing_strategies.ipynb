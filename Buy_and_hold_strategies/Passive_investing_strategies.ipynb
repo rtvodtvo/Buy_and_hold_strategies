{
 "cells": [
  {
   "cell_type": "code",
   "execution_count": 3,
   "id": "a949053a-4d4b-4665-8515-8127309f9c89",
   "metadata": {},
   "outputs": [],
   "source": [
    "def generate_buy_above_ema50_signal(df):\n",
    "    long_signal_condition = (df['open'] > df['ema50']) & (df['date'].dt.weekday == 2)\n",
    "    df.loc[long_signal_condition, 'signal'] = True\n",
    "    df.loc[long_signal_condition, 'regular_investment'] = 100\n",
    "    return df"
   ]
  },
  {
   "cell_type": "code",
   "execution_count": 4,
   "id": "b6021023-5d55-4c6c-96c3-99d16bf225b5",
   "metadata": {},
   "outputs": [],
   "source": [
    "def generate_buy_under_ema50_signal(df):\n",
    "    long_signal_condition = (df['open'] < df['ema50']) & (df['date'].dt.weekday == 2)\n",
    "    df.loc[long_signal_condition, 'signal'] = True\n",
    "    df.loc[long_signal_condition, 'regular_investment'] = 100\n",
    "    return df"
   ]
  },
  {
   "cell_type": "code",
   "execution_count": 6,
   "id": "5426bee5-f94b-4cb2-b1ac-18f8cdaa8b4b",
   "metadata": {},
   "outputs": [],
   "source": [
    "def generate_buy_every_week_signal(df):\n",
    "    tuesday_signal_condition = (df['date'].dt.weekday == 2)\n",
    "    df.loc[tuesday_signal_condition, 'signal'] = True\n",
    "    df.loc[tuesday_signal_condition, 'regular_investment'] = 100\n",
    "    return df"
   ]
  },
  {
   "cell_type": "code",
   "execution_count": 7,
   "id": "541c6ad5-8b4b-4edf-866b-1a89eb5053c0",
   "metadata": {},
   "outputs": [],
   "source": [
    "def generate_buy_signal_dynamic_investment(df):\n",
    "    long_signal_condition = (df['open'] < df['ema50']) & (df['date'].dt.weekday == 2)\n",
    "    long_signal_condition2 = (df['open'] > df['ema50']) & (df['date'].dt.weekday == 2)\n",
    "    df.loc[long_signal_condition, 'signal'] = True\n",
    "    df.loc[long_signal_condition, 'regular_investment'] = 75\n",
    "    df.loc[long_signal_condition2, 'signal'] = True\n",
    "    df.loc[long_signal_condition2, 'regular_investment'] = 25\n",
    "    return df"
   ]
  },
  {
   "cell_type": "code",
   "execution_count": 2,
   "id": "96889ce0-7a1d-48e8-aa2f-725ae4cd510d",
   "metadata": {},
   "outputs": [],
   "source": [
    "def generate_buy_signal_Volatility_adjusted(df):\n",
    "    dfvix= yf.download('^VIX', start='2000-11-30', end='2024-1-29', interval='1d', progress=False)\n",
    "    dfvix=dfvix.reset_index()\n",
    "    dfvix.columns = [x.lower() for x in dfvix.columns]\n",
    "    dfvix.rename(columns={'open': 'openvix'}, inplace=True)\n",
    "    dfmedian = dfvix['openvix'].median()\n",
    "    df = pd.merge(df, dfvix[['date','openvix']], on='date')\n",
    "\n",
    "    long_signal_condition = (df['openvix'] < dfmedian) & (df['date'].dt.weekday == 2)\n",
    "    long_signal_condition2 = (df['openvix'] > dfmedian) & (df['date'].dt.weekday == 2)\n",
    "    df.loc[long_signal_condition, 'signal'] = True\n",
    "    df.loc[long_signal_condition, 'regular_investment'] = 75\n",
    "    df.loc[long_signal_condition2, 'signal'] = True\n",
    "    df.loc[long_signal_condition2, 'regular_investment'] = 25\n",
    "    return df"
   ]
  },
  {
   "cell_type": "code",
   "execution_count": null,
   "id": "4dc3b1d7-52f9-4cb9-b0d7-59c35d2a8845",
   "metadata": {},
   "outputs": [],
   "source": [
    "def calculate_seasonality(df, column_name):\n",
    "    \"\"\"\n",
    "    Calculate seasonality for a DataFrame with 'Date' and the specified column.\n",
    "    Parameters:\n",
    "    - df (pd.DataFrame): Input DataFrame.\n",
    "    - column_name (str): Name of the column for which to calculate seasonality.\n",
    "    Returns:\n",
    "    - pd.DataFrame: DataFrame with calculated seasonality.\n",
    "    \"\"\"\n",
    "    # Copy the input DataFrame to avoid modifying the original\n",
    "    df_copy = df.copy()\n",
    "    # If 'Date' is not in columns, set it as the index\n",
    "    if 'date' not in df_copy.columns:\n",
    "        df_copy= df_copy.reset_index()\n",
    "    # Convert 'Date' column to datetime if it's not already\n",
    "    df_copy['date'] = pd.to_datetime(df_copy['date'])\n",
    "    # Extract month from the 'date' column and create a new column 'Month'\n",
    "    df_copy['Month'] = df_copy['date'].dt.month\n",
    "    # Group by month and calculate the mean\n",
    "    seasonality_data = df_copy.groupby('Month')[column_name].mean().reset_index()\n",
    "    return seasonality_data.round(2)"
   ]
  },
  {
   "cell_type": "code",
   "execution_count": null,
   "id": "1259ce41-dba3-49d1-99b2-06ba29068935",
   "metadata": {},
   "outputs": [],
   "source": [
    "def generate_buy_signal_seasonal_DCA(df):\n",
    "    df['regular_investment']= ''\n",
    "    df['Change%'] = (df['open'].pct_change(fill_method=None) * 100).round(2)\n",
    "    seasonality = calculate_seasonality(df, 'Change%')\n",
    "    df['month']= df['date'].dt.month\n",
    "    for i in range(len(df)):\n",
    "        if (seasonality.loc[seasonality['Month'] == df['month'][i], 'Change%'] < 0).all() and df['date'][i].weekday() == 2 :\n",
    "            df['signal'][i] = True\n",
    "            df['regular_investment'][i] = 25\n",
    "        if (seasonality.loc[seasonality['Month'] == df['month'][i], 'Change%'] >= 0).all() and df['date'][i].weekday() == 2 :\n",
    "            df['signal'][i] = True\n",
    "            df['regular_investment'][i] = 75\n",
    "    return df"
   ]
  },
  {
   "cell_type": "code",
   "execution_count": null,
   "id": "8861306a-eb6b-4e82-acb7-9995a66e4529",
   "metadata": {},
   "outputs": [],
   "source": [
    "#def generate_buy_signal_sentiment_DCA(df):"
   ]
  }
 ],
 "metadata": {
  "kernelspec": {
   "display_name": "Python 3 (ipykernel)",
   "language": "python",
   "name": "python3"
  },
  "language_info": {
   "codemirror_mode": {
    "name": "ipython",
    "version": 3
   },
   "file_extension": ".py",
   "mimetype": "text/x-python",
   "name": "python",
   "nbconvert_exporter": "python",
   "pygments_lexer": "ipython3",
   "version": "3.10.13"
  }
 },
 "nbformat": 4,
 "nbformat_minor": 5
}
